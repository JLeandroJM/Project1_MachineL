{
 "cells": [
  {
   "cell_type": "code",
   "execution_count": 1,
   "metadata": {},
   "outputs": [],
   "source": [
    "import numpy as np"
   ]
  },
  {
   "cell_type": "markdown",
   "metadata": {},
   "source": [
    "# Modelo\n",
    "\n",
    "$h(x_i) = x_i \\cdot w^t $\n",
    "\n",
    "$h(X) = XW^t$ "
   ]
  },
  {
   "cell_type": "code",
   "execution_count": 2,
   "metadata": {},
   "outputs": [],
   "source": [
    "def h(X, W):\n",
    "    return np.dot(X, W)"
   ]
  },
  {
   "cell_type": "markdown",
   "metadata": {},
   "source": [
    "# Loss Function\n",
    "\n",
    "$\\mathcal{L} = ||y - h(X)||_2^2$\n",
    "\n",
    "$\\mathcal{L} = \\sum_{i=1}^{n} (y_i - \\hat{y}_i)^2$"
   ]
  },
  {
   "cell_type": "code",
   "execution_count": null,
   "metadata": {},
   "outputs": [],
   "source": [
    "def loss(Y, Y_aprox):\n",
    "    return np.sum((Y - Y_aprox)**2)"
   ]
  },
  {
   "cell_type": "markdown",
   "metadata": {},
   "source": [
    "## Loss + L1\n",
    "\n",
    "$\\mathcal{L} = ||y - h(X)||_2^2 + \\lambda ||W||_1$\n",
    "\n",
    "$\\mathcal{L} = \\sum_{i=1}^{n} (y_i - \\hat{y}_i)^2 + \\lambda \\sum_{j=0}^{p} |w_j|$"
   ]
  },
  {
   "cell_type": "code",
   "execution_count": null,
   "metadata": {},
   "outputs": [],
   "source": [
    "def loss_l1(Y, Y_aprox, W, lam):\n",
    "    return np.sum((Y - Y_aprox)**2) + lam * np.sum(abs(W))"
   ]
  },
  {
   "cell_type": "markdown",
   "metadata": {},
   "source": [
    "## Loss + L2\n",
    "\n",
    "$\\mathcal{L} = ||y - h(X)||_2^2 + \\lambda ||W||_2^2$\n",
    "\n",
    "$\\mathcal{L} = \\sum_{i=1}^{n} (y_i - \\hat{y}_i)^2 + \\lambda \\sum_{j=0}^{p} w_j^2  $"
   ]
  },
  {
   "cell_type": "code",
   "execution_count": null,
   "metadata": {},
   "outputs": [],
   "source": [
    "def loss_l2(Y, Y_aprox, W, lam):\n",
    "    return np.sum((Y - Y_aprox)**2) + lam * np.sum(W**2)"
   ]
  },
  {
   "cell_type": "markdown",
   "metadata": {},
   "source": [
    "# Derivadas\n",
    "\n",
    "$ \\frac{\\partial \\mathcal{L}}{\\partial W} = 2(y - h(X))^T \\cdot - X $\n",
    "\n",
    "$ \\frac{\\partial \\mathcal{L}}{\\partial W} = 2(y - h(X))^T \\cdot - X $\n"
   ]
  },
  {
   "cell_type": "code",
   "execution_count": null,
   "metadata": {},
   "outputs": [],
   "source": [
    "def derivates(Y, Y_aprox, X):\n",
    "    return 2 * np.dot((Y - Y_aprox).T, X)"
   ]
  },
  {
   "cell_type": "markdown",
   "metadata": {},
   "source": [
    "## Derivadas con L1\n",
    "\n",
    "$\\frac{\\partial \\mathcal{L}}{\\partial W_{ij}} = \\lambda \\cdot \\text{sign}(W_{ij}) $"
   ]
  },
  {
   "cell_type": "code",
   "execution_count": null,
   "metadata": {},
   "outputs": [],
   "source": [
    "def derivates_l1(Y, Y_aprox, X, lam, W):\n",
    "    return 2 * np.dot((Y - Y_aprox).T, X) + lam * np.sum(W/abs(W))"
   ]
  },
  {
   "cell_type": "markdown",
   "metadata": {},
   "source": [
    "## Derivadas con L2"
   ]
  },
  {
   "cell_type": "code",
   "execution_count": null,
   "metadata": {},
   "outputs": [],
   "source": [
    "def derivates_l2(Y, Y_aprox, X, lam, W):\n",
    "    return 2 * np.dot((Y - Y_aprox).T, X) + 2 * lam * np.sum(W)"
   ]
  },
  {
   "cell_type": "code",
   "execution_count": null,
   "metadata": {},
   "outputs": [],
   "source": [
    "def update(W, alpha, dW):\n",
    "    return W - alpha * dW"
   ]
  },
  {
   "cell_type": "markdown",
   "metadata": {},
   "source": [
    "# Training"
   ]
  },
  {
   "cell_type": "code",
   "execution_count": null,
   "metadata": {},
   "outputs": [],
   "source": [
    "def train(X, Y, epochs, alfa,lamda):\n",
    "    W = np.random.randn(X.shape[1], 1) * 0.01\n",
    "    loss = []\n",
    "    for i in range(epochs):\n",
    "        Y_aprox = h(X, W)\n",
    "        dW = derivates(Y, Y_aprox, X)\n",
    "        W = update(W,alfa, dW)\n",
    "        L = loss(Y, Y_aprox)\n",
    "        loss.append(L)\n",
    "        if ((i%1000)==0):\n",
    "          print(\"loss value error :\" + str(L))\n",
    "    return W, loss"
   ]
  }
 ],
 "metadata": {
  "kernelspec": {
   "display_name": "Python 3",
   "language": "python",
   "name": "python3"
  },
  "language_info": {
   "codemirror_mode": {
    "name": "ipython",
    "version": 3
   },
   "file_extension": ".py",
   "mimetype": "text/x-python",
   "name": "python",
   "nbconvert_exporter": "python",
   "pygments_lexer": "ipython3",
   "version": "3.12.0"
  }
 },
 "nbformat": 4,
 "nbformat_minor": 2
}
