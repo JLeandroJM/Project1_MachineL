{
 "cells": [
  {
   "cell_type": "code",
   "execution_count": 1,
   "metadata": {},
   "outputs": [],
   "source": [
    "import pandas as pd\n",
    "import numpy as np\n",
    "import seaborn as sns\n",
    "import matplotlib.pyplot as plt"
   ]
  },
  {
   "cell_type": "markdown",
   "metadata": {},
   "source": [
    "# Función de Predicción\n",
    "\n",
    "$h(x_i) = x_i \\cdot w^t $\n",
    "\n",
    "$h(X) = XW^t$ "
   ]
  },
  {
   "cell_type": "code",
   "execution_count": 2,
   "metadata": {},
   "outputs": [],
   "source": [
    "def h(X, W):\n",
    "    return np.dot(X, W)"
   ]
  },
  {
   "cell_type": "markdown",
   "metadata": {},
   "source": [
    "# Loss Function Lasso\n",
    "\n",
    "$\\mathcal{L} = ||y - h(X)||_2^2 + \\lambda ||W||_1$\n",
    "\n",
    "$\\mathcal{L} = \\sum_{i=1}^{n} (y_i - \\hat{y}_i)^2 + \\lambda \\sum_{j=0}^{p} |w_j|$"
   ]
  },
  {
   "cell_type": "code",
   "execution_count": 3,
   "metadata": {},
   "outputs": [],
   "source": [
    "def loss_lasso(Y, Y_aprox, W, lam):\n",
    "    return np.sum((Y - Y_aprox)**2) + lam * np.sum(abs(W))"
   ]
  },
  {
   "cell_type": "markdown",
   "metadata": {},
   "source": [
    "## Derivadas Lasso\n",
    "\n",
    "$\\frac{\\partial \\mathcal{L}}{\\partial W_{ij}} = 2 \\sum_{i=1}^{n} (y_i - \\hat{y}i) (-x_i) + \\lambda \\cdot \\sum{j=0}^{p} \\frac{w_j}{|w_j|} $"
   ]
  },
  {
   "cell_type": "code",
   "execution_count": 4,
   "metadata": {},
   "outputs": [],
   "source": [
    "def derivates_lasso(Y, Y_aprox, X, lam, W):\n",
    "    return 2 * np.dot((Y - Y_aprox).T, X) + lam * np.sum(W/abs(W))"
   ]
  },
  {
   "cell_type": "markdown",
   "metadata": {},
   "source": [
    "# Actualización pesos"
   ]
  },
  {
   "cell_type": "code",
   "execution_count": 5,
   "metadata": {},
   "outputs": [],
   "source": [
    "def update(W, alpha, dW):\n",
    "    return W - alpha * dW"
   ]
  },
  {
   "cell_type": "code",
   "execution_count": 23,
   "metadata": {},
   "outputs": [],
   "source": [
    "def train(X, Y, epochs, alfa,lam):\n",
    "    W = np.random.randn(X.shape[1])\n",
    "    loss_values = []\n",
    "    for i in range(epochs):\n",
    "        Y_aprox = h(X, W)\n",
    "        dW = derivates_lasso(Y, Y_aprox, X,lam,W)\n",
    "        W = update(W,alfa, dW)\n",
    "        L = loss_lasso(Y, Y_aprox,W,lam)\n",
    "        loss_values.append(L)\n",
    "        if ((i%1000)==0):\n",
    "          print(\"loss value error :\" + str(L))\n",
    "    return W, loss_values"
   ]
  },
  {
   "cell_type": "code",
   "execution_count": 7,
   "metadata": {},
   "outputs": [],
   "source": [
    "d_train =  pd.read_csv(\"train_final.csv\")\n"
   ]
  },
  {
   "cell_type": "code",
   "execution_count": 8,
   "metadata": {},
   "outputs": [
    {
     "name": "stdout",
     "output_type": "stream",
     "text": [
      "[1 2]\n",
      "['3.PRODUCTO' '2.PROYECTO']\n"
     ]
    }
   ],
   "source": [
    "tipos_unicos = d_train['TIPO_PROD_PROY'].unique()\n",
    "mapeo = {tipo: indice + 1 for indice, tipo in enumerate(tipos_unicos)}\n",
    "d_train['TIPO_PROD_PROY_NUM'] = d_train['TIPO_PROD_PROY'].map(mapeo)\n",
    "\n",
    "print(d_train['TIPO_PROD_PROY_NUM'].unique())\n",
    "print(tipos_unicos)"
   ]
  },
  {
   "cell_type": "code",
   "execution_count": 9,
   "metadata": {},
   "outputs": [
    {
     "name": "stdout",
     "output_type": "stream",
     "text": [
      "[1 2]\n",
      "['5.ACTIVIDAD' '6.ACCION DE INVERSION']\n"
     ]
    }
   ],
   "source": [
    "tipos_unicos = d_train['TIPO_ACT_OBRA_ACCINV'].unique()\n",
    "mapeo = {tipo: indice + 1 for indice, tipo in enumerate(tipos_unicos)}\n",
    "d_train['TIPO_ACT_OBRA_ACCINV_NUM'] = d_train['TIPO_ACT_OBRA_ACCINV'].map(mapeo)\n",
    "\n",
    "print(d_train['TIPO_ACT_OBRA_ACCINV_NUM'].unique())\n",
    "print(tipos_unicos)"
   ]
  },
  {
   "cell_type": "code",
   "execution_count": 10,
   "metadata": {},
   "outputs": [
    {
     "name": "stdout",
     "output_type": "stream",
     "text": [
      "[1 2]\n",
      "['5.GASTOS CORRIENTES' '6.GASTOS DE CAPITAL']\n"
     ]
    }
   ],
   "source": [
    "tipos_unicos = d_train['CATEGORIA_GASTO'].unique()\n",
    "mapeo = {tipo: indice + 1 for indice, tipo in enumerate(tipos_unicos)}\n",
    "d_train['CATEGORIA_GASTO_NUM'] = d_train['CATEGORIA_GASTO'].map(mapeo)\n",
    "\n",
    "print(d_train['CATEGORIA_GASTO_NUM'].unique())\n",
    "print(tipos_unicos)"
   ]
  },
  {
   "cell_type": "code",
   "execution_count": 11,
   "metadata": {},
   "outputs": [
    {
     "data": {
      "text/html": [
       "<div>\n",
       "<style scoped>\n",
       "    .dataframe tbody tr th:only-of-type {\n",
       "        vertical-align: middle;\n",
       "    }\n",
       "\n",
       "    .dataframe tbody tr th {\n",
       "        vertical-align: top;\n",
       "    }\n",
       "\n",
       "    .dataframe thead th {\n",
       "        text-align: right;\n",
       "    }\n",
       "</style>\n",
       "<table border=\"1\" class=\"dataframe\">\n",
       "  <thead>\n",
       "    <tr style=\"text-align: right;\">\n",
       "      <th></th>\n",
       "      <th>TIPO_PROD_PROY_NUM</th>\n",
       "      <th>TIPO_ACT_OBRA_ACCINV_NUM</th>\n",
       "      <th>META</th>\n",
       "      <th>CANT_META_ANUAL</th>\n",
       "      <th>CANT_META_SEM</th>\n",
       "      <th>AVAN_FISICO_ANUAL</th>\n",
       "      <th>AVAN_FISICO_SEM</th>\n",
       "      <th>SEC_FUNC</th>\n",
       "      <th>CATEGORIA_GASTO_NUM</th>\n",
       "      <th>MTO_PIA</th>\n",
       "    </tr>\n",
       "  </thead>\n",
       "  <tbody>\n",
       "    <tr>\n",
       "      <th>0</th>\n",
       "      <td>1</td>\n",
       "      <td>1</td>\n",
       "      <td>6</td>\n",
       "      <td>0</td>\n",
       "      <td>6</td>\n",
       "      <td>0</td>\n",
       "      <td>6</td>\n",
       "      <td>9</td>\n",
       "      <td>1</td>\n",
       "      <td>0</td>\n",
       "    </tr>\n",
       "    <tr>\n",
       "      <th>1</th>\n",
       "      <td>1</td>\n",
       "      <td>1</td>\n",
       "      <td>20</td>\n",
       "      <td>0</td>\n",
       "      <td>6</td>\n",
       "      <td>0</td>\n",
       "      <td>6</td>\n",
       "      <td>23</td>\n",
       "      <td>1</td>\n",
       "      <td>805</td>\n",
       "    </tr>\n",
       "    <tr>\n",
       "      <th>2</th>\n",
       "      <td>1</td>\n",
       "      <td>1</td>\n",
       "      <td>4</td>\n",
       "      <td>0</td>\n",
       "      <td>16</td>\n",
       "      <td>0</td>\n",
       "      <td>16</td>\n",
       "      <td>41</td>\n",
       "      <td>1</td>\n",
       "      <td>0</td>\n",
       "    </tr>\n",
       "    <tr>\n",
       "      <th>3</th>\n",
       "      <td>1</td>\n",
       "      <td>1</td>\n",
       "      <td>1</td>\n",
       "      <td>0</td>\n",
       "      <td>6</td>\n",
       "      <td>0</td>\n",
       "      <td>6</td>\n",
       "      <td>4</td>\n",
       "      <td>1</td>\n",
       "      <td>0</td>\n",
       "    </tr>\n",
       "    <tr>\n",
       "      <th>4</th>\n",
       "      <td>1</td>\n",
       "      <td>1</td>\n",
       "      <td>7</td>\n",
       "      <td>0</td>\n",
       "      <td>6</td>\n",
       "      <td>0</td>\n",
       "      <td>6</td>\n",
       "      <td>10</td>\n",
       "      <td>1</td>\n",
       "      <td>8816</td>\n",
       "    </tr>\n",
       "    <tr>\n",
       "      <th>...</th>\n",
       "      <td>...</td>\n",
       "      <td>...</td>\n",
       "      <td>...</td>\n",
       "      <td>...</td>\n",
       "      <td>...</td>\n",
       "      <td>...</td>\n",
       "      <td>...</td>\n",
       "      <td>...</td>\n",
       "      <td>...</td>\n",
       "      <td>...</td>\n",
       "    </tr>\n",
       "    <tr>\n",
       "      <th>1459</th>\n",
       "      <td>1</td>\n",
       "      <td>1</td>\n",
       "      <td>21</td>\n",
       "      <td>0</td>\n",
       "      <td>0</td>\n",
       "      <td>0</td>\n",
       "      <td>0</td>\n",
       "      <td>58</td>\n",
       "      <td>1</td>\n",
       "      <td>12779</td>\n",
       "    </tr>\n",
       "    <tr>\n",
       "      <th>1460</th>\n",
       "      <td>1</td>\n",
       "      <td>1</td>\n",
       "      <td>17</td>\n",
       "      <td>0</td>\n",
       "      <td>0</td>\n",
       "      <td>0</td>\n",
       "      <td>0</td>\n",
       "      <td>54</td>\n",
       "      <td>1</td>\n",
       "      <td>180</td>\n",
       "    </tr>\n",
       "    <tr>\n",
       "      <th>1461</th>\n",
       "      <td>1</td>\n",
       "      <td>1</td>\n",
       "      <td>3</td>\n",
       "      <td>0</td>\n",
       "      <td>0</td>\n",
       "      <td>0</td>\n",
       "      <td>0</td>\n",
       "      <td>40</td>\n",
       "      <td>1</td>\n",
       "      <td>31447</td>\n",
       "    </tr>\n",
       "    <tr>\n",
       "      <th>1462</th>\n",
       "      <td>1</td>\n",
       "      <td>1</td>\n",
       "      <td>19</td>\n",
       "      <td>0</td>\n",
       "      <td>0</td>\n",
       "      <td>0</td>\n",
       "      <td>0</td>\n",
       "      <td>56</td>\n",
       "      <td>1</td>\n",
       "      <td>2250</td>\n",
       "    </tr>\n",
       "    <tr>\n",
       "      <th>1463</th>\n",
       "      <td>1</td>\n",
       "      <td>1</td>\n",
       "      <td>9</td>\n",
       "      <td>0</td>\n",
       "      <td>0</td>\n",
       "      <td>0</td>\n",
       "      <td>0</td>\n",
       "      <td>46</td>\n",
       "      <td>1</td>\n",
       "      <td>5569</td>\n",
       "    </tr>\n",
       "  </tbody>\n",
       "</table>\n",
       "<p>1464 rows × 10 columns</p>\n",
       "</div>"
      ],
      "text/plain": [
       "      TIPO_PROD_PROY_NUM  TIPO_ACT_OBRA_ACCINV_NUM  META  CANT_META_ANUAL  \\\n",
       "0                      1                         1     6                0   \n",
       "1                      1                         1    20                0   \n",
       "2                      1                         1     4                0   \n",
       "3                      1                         1     1                0   \n",
       "4                      1                         1     7                0   \n",
       "...                  ...                       ...   ...              ...   \n",
       "1459                   1                         1    21                0   \n",
       "1460                   1                         1    17                0   \n",
       "1461                   1                         1     3                0   \n",
       "1462                   1                         1    19                0   \n",
       "1463                   1                         1     9                0   \n",
       "\n",
       "      CANT_META_SEM  AVAN_FISICO_ANUAL  AVAN_FISICO_SEM  SEC_FUNC  \\\n",
       "0                 6                  0                6         9   \n",
       "1                 6                  0                6        23   \n",
       "2                16                  0               16        41   \n",
       "3                 6                  0                6         4   \n",
       "4                 6                  0                6        10   \n",
       "...             ...                ...              ...       ...   \n",
       "1459              0                  0                0        58   \n",
       "1460              0                  0                0        54   \n",
       "1461              0                  0                0        40   \n",
       "1462              0                  0                0        56   \n",
       "1463              0                  0                0        46   \n",
       "\n",
       "      CATEGORIA_GASTO_NUM  MTO_PIA  \n",
       "0                       1        0  \n",
       "1                       1      805  \n",
       "2                       1        0  \n",
       "3                       1        0  \n",
       "4                       1     8816  \n",
       "...                   ...      ...  \n",
       "1459                    1    12779  \n",
       "1460                    1      180  \n",
       "1461                    1    31447  \n",
       "1462                    1     2250  \n",
       "1463                    1     5569  \n",
       "\n",
       "[1464 rows x 10 columns]"
      ]
     },
     "execution_count": 11,
     "metadata": {},
     "output_type": "execute_result"
    }
   ],
   "source": [
    "columnas_seleccionadas = ['TIPO_PROD_PROY_NUM', 'TIPO_ACT_OBRA_ACCINV_NUM', 'META','CANT_META_ANUAL','CANT_META_SEM','AVAN_FISICO_ANUAL',\n",
    "                          'AVAN_FISICO_SEM','SEC_FUNC','CATEGORIA_GASTO_NUM','MTO_PIA']\n",
    "\n",
    "# columnas_seleccionadas = [  'META',\n",
    "#                           'AVAN_FISICO_SEM','MTO_PIA']\n",
    "                          \n",
    "\n",
    "# Crear un nuevo DataFrame con las columnas seleccionadas\n",
    "d_train_f = d_train[columnas_seleccionadas].copy()\n",
    "d_train_f"
   ]
  },
  {
   "cell_type": "code",
   "execution_count": 13,
   "metadata": {},
   "outputs": [],
   "source": [
    "def min_max_normalize_df(df):\n",
    "    df_normalized = df.copy()  \n",
    "    for col in df.columns:\n",
    "        maxval = df[col].max()\n",
    "        minval = df[col].min()\n",
    "        if maxval != minval:\n",
    "            df_normalized[col] = (df[col] - minval) / (maxval - minval)\n",
    "    return df_normalized"
   ]
  },
  {
   "cell_type": "code",
   "execution_count": 14,
   "metadata": {},
   "outputs": [],
   "source": [
    "\n",
    "d_train_n = min_max_normalize_df(d_train_f)\n",
    "\n",
    "x_train_n = d_train_n.iloc[:, :-1]\n",
    "y_train_n = d_train_n.iloc[:, -1]\n",
    "\n",
    "\n"
   ]
  },
  {
   "cell_type": "code",
   "execution_count": 24,
   "metadata": {},
   "outputs": [
    {
     "name": "stdout",
     "output_type": "stream",
     "text": [
      "loss value error :155.55524768525808\n"
     ]
    },
    {
     "name": "stderr",
     "output_type": "stream",
     "text": [
      "/var/folders/fx/n685hk8x7534hjymvry9354c0000gn/T/ipykernel_37571/730915718.py:2: RuntimeWarning: invalid value encountered in divide\n",
      "  return 2 * np.dot((Y - Y_aprox).T, X) + lam * np.sum(W/abs(W))\n"
     ]
    },
    {
     "name": "stdout",
     "output_type": "stream",
     "text": [
      "loss value error :nan\n",
      "loss value error :nan\n",
      "loss value error :nan\n",
      "loss value error :nan\n",
      "loss value error :nan\n",
      "loss value error :nan\n",
      "loss value error :nan\n",
      "loss value error :nan\n",
      "loss value error :nan\n",
      "avg_mse:  nan\n"
     ]
    }
   ],
   "source": [
    "alfa = 0.05\n",
    "umbral = 10000  # Número de épocas\n",
    "lam = 0.01\n",
    "\n",
    "# x_train_n = x_train_n.to_numpy()\n",
    "# y_train_n = y_train_n.to_numpy()\n",
    "\n",
    "# Entrenar el modelo\n",
    "W, loss_values = train(x_train_n, y_train_n, umbral, alfa,lam)  # Asegúrate de que lamda esté definido\n",
    "\n",
    "# Mostrar el promedio del error cuadrático medio\n",
    "avg_mse = np.mean(loss_values)\n",
    "print(\"avg_mse: \", avg_mse)"
   ]
  },
  {
   "cell_type": "code",
   "execution_count": 22,
   "metadata": {},
   "outputs": [
    {
     "data": {
      "image/png": "[encoded data removed]",
      "text/plain": [
       "<Figure size 640x480 with 1 Axes>"
      ]
     },
     "metadata": {},
     "output_type": "display_data"
    }
   ],
   "source": [
    "data = {'Época': range(len(loss_values)), 'Error cuadrático medio': loss_values}\n",
    "df_loss = pd.DataFrame(data)\n",
    "\n",
    "# Graficar los errores durante el entrenamiento con Seaborn\n",
    "sns.lineplot(data=df_loss, x='Época', y='Error cuadrático medio')\n",
    "plt.xlabel('Época')\n",
    "plt.ylabel('Error cuadrático medio')\n",
    "plt.title('Errores durante el entrenamiento')\n",
    "plt.show()"
   ]
  },
  {
   "cell_type": "code",
   "execution_count": 79,
   "metadata": {},
   "outputs": [],
   "source": [
    "d_test =  pd.read_csv(\"test_final.csv\")"
   ]
  },
  {
   "cell_type": "code",
   "execution_count": 80,
   "metadata": {},
   "outputs": [
    {
     "name": "stdout",
     "output_type": "stream",
     "text": [
      "[1 2]\n",
      "['3.PRODUCTO' '2.PROYECTO']\n"
     ]
    }
   ],
   "source": [
    "tipos_unicos = d_test['TIPO_PROD_PROY'].unique()\n",
    "mapeo = {tipo: indice + 1 for indice, tipo in enumerate(tipos_unicos)}\n",
    "d_test['TIPO_PROD_PROY_NUM'] = d_test['TIPO_PROD_PROY'].map(mapeo)\n",
    "\n",
    "print(d_test['TIPO_PROD_PROY_NUM'].unique())\n",
    "print(tipos_unicos)"
   ]
  },
  {
   "cell_type": "code",
   "execution_count": 81,
   "metadata": {},
   "outputs": [
    {
     "name": "stdout",
     "output_type": "stream",
     "text": [
      "[1 2]\n",
      "['5.ACTIVIDAD' '6.ACCION DE INVERSION']\n"
     ]
    }
   ],
   "source": [
    "tipos_unicos = d_test['TIPO_ACT_OBRA_ACCINV'].unique()\n",
    "mapeo = {tipo: indice + 1 for indice, tipo in enumerate(tipos_unicos)}\n",
    "d_test['TIPO_ACT_OBRA_ACCINV_NUM'] = d_test['TIPO_ACT_OBRA_ACCINV'].map(mapeo)\n",
    "\n",
    "print(d_test['TIPO_ACT_OBRA_ACCINV_NUM'].unique())\n",
    "print(tipos_unicos)"
   ]
  },
  {
   "cell_type": "code",
   "execution_count": 82,
   "metadata": {},
   "outputs": [
    {
     "name": "stdout",
     "output_type": "stream",
     "text": [
      "[1 2]\n",
      "['5.GASTOS CORRIENTES' '6.GASTOS DE CAPITAL']\n"
     ]
    }
   ],
   "source": [
    "tipos_unicos = d_test['CATEGORIA_GASTO'].unique()\n",
    "mapeo = {tipo: indice + 1 for indice, tipo in enumerate(tipos_unicos)}\n",
    "d_test['CATEGORIA_GASTO_NUM'] = d_test['CATEGORIA_GASTO'].map(mapeo)\n",
    "\n",
    "print(d_test['CATEGORIA_GASTO_NUM'].unique())\n",
    "print(tipos_unicos)"
   ]
  },
  {
   "cell_type": "code",
   "execution_count": 128,
   "metadata": {},
   "outputs": [
    {
     "data": {
      "text/html": [
       "<div>\n",
       "<style scoped>\n",
       "    .dataframe tbody tr th:only-of-type {\n",
       "        vertical-align: middle;\n",
       "    }\n",
       "\n",
       "    .dataframe tbody tr th {\n",
       "        vertical-align: top;\n",
       "    }\n",
       "\n",
       "    .dataframe thead th {\n",
       "        text-align: right;\n",
       "    }\n",
       "</style>\n",
       "<table border=\"1\" class=\"dataframe\">\n",
       "  <thead>\n",
       "    <tr style=\"text-align: right;\">\n",
       "      <th></th>\n",
       "      <th>META</th>\n",
       "      <th>AVAN_FISICO_SEM</th>\n",
       "    </tr>\n",
       "  </thead>\n",
       "  <tbody>\n",
       "    <tr>\n",
       "      <th>0</th>\n",
       "      <td>5</td>\n",
       "      <td>0</td>\n",
       "    </tr>\n",
       "    <tr>\n",
       "      <th>1</th>\n",
       "      <td>11</td>\n",
       "      <td>0</td>\n",
       "    </tr>\n",
       "    <tr>\n",
       "      <th>2</th>\n",
       "      <td>8</td>\n",
       "      <td>0</td>\n",
       "    </tr>\n",
       "    <tr>\n",
       "      <th>3</th>\n",
       "      <td>8</td>\n",
       "      <td>0</td>\n",
       "    </tr>\n",
       "    <tr>\n",
       "      <th>4</th>\n",
       "      <td>5</td>\n",
       "      <td>0</td>\n",
       "    </tr>\n",
       "    <tr>\n",
       "      <th>...</th>\n",
       "      <td>...</td>\n",
       "      <td>...</td>\n",
       "    </tr>\n",
       "    <tr>\n",
       "      <th>9610</th>\n",
       "      <td>1</td>\n",
       "      <td>0</td>\n",
       "    </tr>\n",
       "    <tr>\n",
       "      <th>9611</th>\n",
       "      <td>3</td>\n",
       "      <td>0</td>\n",
       "    </tr>\n",
       "    <tr>\n",
       "      <th>9612</th>\n",
       "      <td>4</td>\n",
       "      <td>0</td>\n",
       "    </tr>\n",
       "    <tr>\n",
       "      <th>9613</th>\n",
       "      <td>4</td>\n",
       "      <td>0</td>\n",
       "    </tr>\n",
       "    <tr>\n",
       "      <th>9614</th>\n",
       "      <td>15</td>\n",
       "      <td>0</td>\n",
       "    </tr>\n",
       "  </tbody>\n",
       "</table>\n",
       "<p>9615 rows × 2 columns</p>\n",
       "</div>"
      ],
      "text/plain": [
       "      META  AVAN_FISICO_SEM\n",
       "0        5                0\n",
       "1       11                0\n",
       "2        8                0\n",
       "3        8                0\n",
       "4        5                0\n",
       "...    ...              ...\n",
       "9610     1                0\n",
       "9611     3                0\n",
       "9612     4                0\n",
       "9613     4                0\n",
       "9614    15                0\n",
       "\n",
       "[9615 rows x 2 columns]"
      ]
     },
     "execution_count": 128,
     "metadata": {},
     "output_type": "execute_result"
    }
   ],
   "source": [
    "# columnas_seleccionadas = ['TIPO_PROD_PROY_NUM', 'TIPO_ACT_OBRA_ACCINV_NUM', 'META','CANT_META_ANUAL','CANT_META_SEM','AVAN_FISICO_ANUAL',\n",
    "#                           'AVAN_FISICO_SEM','SEC_FUNC','CATEGORIA_GASTO_NUM']\n",
    "columnas_seleccionadas = [  'META',\n",
    "                          'AVAN_FISICO_SEM']\n",
    "                          \n",
    "\n",
    "# Crear un nuevo DataFrame con las columnas seleccionadas\n",
    "d_test_f = d_test[columnas_seleccionadas].copy()\n",
    "d_test_f"
   ]
  },
  {
   "cell_type": "code",
   "execution_count": 129,
   "metadata": {},
   "outputs": [
    {
     "name": "stdout",
     "output_type": "stream",
     "text": [
      "[nan nan nan ... nan nan nan]\n"
     ]
    }
   ],
   "source": [
    "\n",
    "d_test_n = min_max_normalize_df(d_test_f)\n",
    "\n",
    "\n",
    "\n",
    "mse = h(d_test_n,W)\n",
    "mse = np.array(mse)\n",
    "\n",
    "print(mse)"
   ]
  }
 ],
 "metadata": {
  "kernelspec": {
   "display_name": "base",
   "language": "python",
   "name": "python3"
  },
  "language_info": {
   "codemirror_mode": {
    "name": "ipython",
    "version": 3
   },
   "file_extension": ".py",
   "mimetype": "text/x-python",
   "name": "python",
   "nbconvert_exporter": "python",
   "pygments_lexer": "ipython3",
   "version": "3.11.4"
  }
 },
 "nbformat": 4,
 "nbformat_minor": 2
}
