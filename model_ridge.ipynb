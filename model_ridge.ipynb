{
 "cells": [
  {
   "cell_type": "code",
   "execution_count": 1,
   "metadata": {},
   "outputs": [],
   "source": [
    "import pandas as pd\n",
    "import numpy as np"
   ]
  },
  {
   "cell_type": "markdown",
   "metadata": {},
   "source": [
    "# Función de Predicción\n",
    "\n",
    "$h(x_i) = x_i \\cdot w^t $\n",
    "\n",
    "$h(X) = XW^t$ "
   ]
  },
  {
   "cell_type": "code",
   "execution_count": null,
   "metadata": {},
   "outputs": [],
   "source": [
    "def h(X, W):\n",
    "    return np.dot(X, W)"
   ]
  },
  {
   "cell_type": "markdown",
   "metadata": {},
   "source": [
    "# Loss Function Ridge\n",
    "\n",
    "$\\mathcal{L} = ||y - h(X)||_2^2 + \\lambda ||W||_2^2$\n",
    "\n",
    "$\\mathcal{L} = \\sum_{i=1}^{n} (y_i - \\hat{y}_i)^2 + \\lambda \\sum_{j=0}^{p} w_j^2  $"
   ]
  },
  {
   "cell_type": "code",
   "execution_count": null,
   "metadata": {},
   "outputs": [],
   "source": [
    "def loss_ridge(Y, Y_aprox, W, lam):\n",
    "    return np.sum((Y - Y_aprox)**2) + lam * np.sum(W**2)"
   ]
  },
  {
   "cell_type": "markdown",
   "metadata": {},
   "source": [
    "# Derivadas Rigde"
   ]
  },
  {
   "cell_type": "code",
   "execution_count": null,
   "metadata": {},
   "outputs": [],
   "source": [
    "def derivates_ridge(Y, Y_aprox, X, lam, W):\n",
    "    return 2 * np.dot((Y - Y_aprox).T, X) + 2 * lam * np.sum(W)"
   ]
  },
  {
   "cell_type": "markdown",
   "metadata": {},
   "source": [
    "# Actualización pesos"
   ]
  },
  {
   "cell_type": "code",
   "execution_count": null,
   "metadata": {},
   "outputs": [],
   "source": [
    "def update(W, alpha, dW):\n",
    "    return W - alpha * dW"
   ]
  },
  {
   "cell_type": "markdown",
   "metadata": {},
   "source": [
    "# Training"
   ]
  },
  {
   "cell_type": "code",
   "execution_count": null,
   "metadata": {},
   "outputs": [],
   "source": [
    "def train(X, Y, epochs, alfa,lamda):\n",
    "    W = np.random.randn(X.shape[1], 1) * 0.01\n",
    "    loss = []\n",
    "    for i in range(epochs):\n",
    "        Y_aprox = h(X, W)\n",
    "        dW = derivates_ridge(Y, Y_aprox, X)\n",
    "        W = update(W,alfa, dW)\n",
    "        L = loss_ridge(Y, Y_aprox)\n",
    "        loss.append(L)\n",
    "        if ((i%1000)==0):\n",
    "          print(\"loss value error :\" + str(L))\n",
    "    return W, loss"
   ]
  },
  {
   "cell_type": "code",
   "execution_count": null,
   "metadata": {},
   "outputs": [],
   "source": [
    "alfa = 0.07\n",
    "umbral = 1000  # Número de épocas\n",
    "lamda = 0.01\n",
    "\n",
    "# Entrenar el modelo\n",
    "W, loss = train(x_train, y_train, umbral, alfa, lamda)  # Asegúrate de que lamda esté definido\n",
    "\n",
    "# Mostrar el promedio del error cuadrático medio\n",
    "avg_mse = np.mean(loss)\n",
    "print(\"avg_mse: \", avg_mse)"
   ]
  }
 ],
 "metadata": {
  "kernelspec": {
   "display_name": "base",
   "language": "python",
   "name": "python3"
  },
  "language_info": {
   "codemirror_mode": {
    "name": "ipython",
    "version": 3
   },
   "file_extension": ".py",
   "mimetype": "text/x-python",
   "name": "python",
   "nbconvert_exporter": "python",
   "pygments_lexer": "ipython3",
   "version": "3.11.4"
  }
 },
 "nbformat": 4,
 "nbformat_minor": 2
}
